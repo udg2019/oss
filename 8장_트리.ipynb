{
  "nbformat": 4,
  "nbformat_minor": 0,
  "metadata": {
    "colab": {
      "provenance": [],
      "collapsed_sections": [
        "G-UGagun99sw",
        "1MNB3oVRTDh1"
      ],
      "authorship_tag": "ABX9TyPWTuiLVjI3fiOamZegZiRy",
      "include_colab_link": true
    },
    "kernelspec": {
      "name": "python3",
      "display_name": "Python 3"
    },
    "language_info": {
      "name": "python"
    }
  },
  "cells": [
    {
      "cell_type": "markdown",
      "metadata": {
        "id": "view-in-github",
        "colab_type": "text"
      },
      "source": [
        "<a href=\"https://colab.research.google.com/github/udg2019/oss/blob/master/8%EC%9E%A5_%ED%8A%B8%EB%A6%AC.ipynb\" target=\"_parent\"><img src=\"https://colab.research.google.com/assets/colab-badge.svg\" alt=\"Open In Colab\"/></a>"
      ]
    },
    {
      "cell_type": "markdown",
      "source": [
        "##이진트리의 일반(간단) 구현\n",
        "- 트리자료구조 : 나무를 거꾸로 뒤집어놓은 형태\n",
        "- 루트root-에지edge-노드node로 구성\n",
        "- 노드: 각 위치\n",
        "- 리프: 차수degree가 0(첫번째, 자식노드 없음)\n",
        "\n",
        "https://pythontutor.com/ 내부구조 확인"
      ],
      "metadata": {
        "id": "G-UGagun99sw"
      }
    },
    {
      "cell_type": "code",
      "execution_count": null,
      "metadata": {
        "colab": {
          "base_uri": "https://localhost:8080/"
        },
        "id": "u0huFkwE6gYn",
        "outputId": "0d2a08af-c6c2-4b8a-dc65-c9ae1d3018a1"
      },
      "outputs": [
        {
          "output_type": "stream",
          "name": "stdout",
          "text": [
            "화사\n",
            "솔라 문별 \n",
            "휘인 쯔위 선미\n"
          ]
        }
      ],
      "source": [
        "# -------> 순으로 번호가 매겨짐.\n",
        "# 1# 완전 이진 트리, 포화 이진 트리 #포화는 데이터가 꽉 차있는것,\n",
        "# 2# 일반 이진 트리 1ㅇ^ㅇ2  ^ㅇ4 처럼 3번 가지를 건너뛰어 생성.\n",
        "# 3# 편향 이진 트리 가지 없이 한쪽으로만 편향됨.\n",
        "\n",
        "class TreeNode(): #함수\n",
        "  def __init__(self): #이닛은 초기화 설정을 도와주는 \"특수 메서드\", 선언할때마다 안의 값이 초기화됨.\n",
        "    self.left = None #좌 가지\n",
        "    self.data = None #여기가 중앙,\n",
        "    self.right = None #우 가지\n",
        "\n",
        "node1 = TreeNode() #클래스를 통해 객체가 생성\n",
        "node1.data = '화사'\n",
        "\n",
        "\n",
        "node2 = TreeNode()\n",
        "node2.data = \"솔라\"\n",
        "node1.left = node2 #node1의 왼쪽과 연결되어 있다.\n",
        "\n",
        "node3 = TreeNode()\n",
        "node3.data = \"문별\"\n",
        "node1.right = node3\n",
        "\n",
        "node4 = TreeNode()\n",
        "node4.data = \"휘인\"\n",
        "node2.left = node4 #혹은 node1.left.left\n",
        "\n",
        "node5 = TreeNode()\n",
        "node5.data = \"쯔위\"\n",
        "node2.right = node5\n",
        "\n",
        "node6 = TreeNode()\n",
        "node6.data = \"선미\"\n",
        "node3.left = node6\n",
        "\n",
        "#         3 <\n",
        "#현재 1 <     5,6\n",
        "#         2 <\n",
        "#             4\n",
        "\n",
        "print(node1.data, end='')\n",
        "print() #자동개행 한줄 띄우기\n",
        "print(node1.left.data, node1.right.data, end=' ')\n",
        "print()\n",
        "print(node2.left.data, node2.right.data, node3.left.data, end=\"\")\n",
        "print()"
      ]
    },
    {
      "cell_type": "markdown",
      "source": [
        "## 이진트리 검색"
      ],
      "metadata": {
        "id": "1MNB3oVRTDh1"
      }
    },
    {
      "cell_type": "code",
      "source": [
        "# 이진트리순회, 필요한 데이터를 효과적으로 검색하기 위한 방법.\n",
        "\n",
        "# 전위 순회: 1) 현재 노드 데이터 처리 2) 왼쪽 서브 트리 이동하여 처리 후 더이상없다면 3) 오른쪽 서브가 있을때까지 올라가 트리 이동\n",
        "# 중위 순회: 2) 왼 1) 처리 3) 오른\n",
        "# 후위 순회: 2) 왼 3) 오른 1) 처리\n",
        "\n",
        "#재귀함수는 컴퓨터가 느려지는 루프가 생길수도 있음, (함수안에서 자신을 호출하는 함수)\n",
        "class TreeNode():\n",
        "  def __init__(self):\n",
        "    self.left = None\n",
        "    self.data = None\n",
        "    self.right = None\n",
        "\n",
        "node1 = TreeNode()\n",
        "node1.data = '1'\n",
        "\n",
        "node2 = TreeNode()\n",
        "node2.data = \"2\"\n",
        "node1.left = node2\n",
        "\n",
        "node3 = TreeNode()\n",
        "node3.data = \"3\"\n",
        "node1.right = node3\n",
        "\n",
        "node4 = TreeNode()\n",
        "node4.data = \"4\"\n",
        "node2.left = node4\n",
        "\n",
        "node5 = TreeNode()\n",
        "node5.data = \"5\"\n",
        "node2.right = node5\n",
        "\n",
        "node6 = TreeNode()\n",
        "node6.data = \"6\"\n",
        "node3.left = node6\n",
        "##############\n",
        "\n",
        "def preorder(node): #전위\n",
        "  if node == None:\n",
        "    return #종료\n",
        "  print(node.data, end=\" -> \")\n",
        "  preorder(node.left) #(재귀함수) 위에 선언했는데 또 호출함.\n",
        "  preorder(node.right) # def preorder(node.left)가 되니,\n",
        "                       #        print(node.left.data)로 바뀌게 됨. 데이터.left엔 또 연결된 데이터2.left가 있으니.. (좌측 우선출력)\n",
        "def inorder(node): #중위\n",
        "  if node == None:\n",
        "    return\n",
        "  inorder(node.left)\n",
        "  print(node.data, end=\" -> \")\n",
        "  inorder(node.right)\n",
        "\n",
        "def postorder(node): #후위\n",
        "  if node == None:\n",
        "    return\n",
        "  postorder(node.left)\n",
        "  postorder(node.right)\n",
        "  print(node.data, end=\" -> \")\n",
        "\n",
        "print(\"전위 순회 : \",end=\" \")\n",
        "print(preorder(node1))\n",
        "\n",
        "print(\"중위 순회 : \",end=\" \")\n",
        "print(inorder(node1))\n",
        "\n",
        "print(\"후위 순회: \", end=\" \")\n",
        "print(postorder(node1)) #def ...oreder(node) 의 경우 정의된게 없어\n",
        "                        #아무일도 일어나지 않지만 이렇게 하는순간 node1은 이미 객체가 생성되었으니 함수 작동\n",
        "\n",
        "#         3 <\n",
        "#현재 1 <     5,6\n",
        "#         2 <\n",
        "#             4"
      ],
      "metadata": {
        "colab": {
          "base_uri": "https://localhost:8080/"
        },
        "id": "e_Rw-gCPHBdu",
        "outputId": "9b438699-2af3-440a-edfc-ac4ea1f829e8"
      },
      "execution_count": null,
      "outputs": [
        {
          "output_type": "stream",
          "name": "stdout",
          "text": [
            "전위 순회 :  1 -> 2 -> 4 -> 5 -> 3 -> 6 -> None\n",
            "중위 순회 :  4 -> 2 -> 5 -> 1 -> 6 -> 3 -> None\n",
            "후위 순회:  4 -> 5 -> 2 -> 6 -> 3 -> 1 -> None\n"
          ]
        }
      ]
    },
    {
      "cell_type": "markdown",
      "source": [
        "##이진 탐색의 일반 구현\n",
        "- 활용도 높은 트리\n",
        "- 데이터 기준으로 일정 형태 구현\n",
        "- 왼쪽은 루트 노드보다 모두 작은 값\n",
        "- 오른쪽은 루트 노드보다 모두 큰 값\n",
        "- 서브 동일 조건\n",
        "- 중복된 값 저장 안됨"
      ],
      "metadata": {
        "id": "IVjVWUQNTJ3c"
      }
    },
    {
      "cell_type": "code",
      "source": [
        "#함수 선언 TreeNode()\n",
        "class TreeNode():\n",
        "  def __init__(self):\n",
        "    self.left = None\n",
        "    self.data = None\n",
        "    self.right = None\n",
        "\n",
        "#전역변수 선언\n",
        "memory = []\n",
        "root = None\n",
        "nameArray = ['블랙핑크', '레드벨벳', '마마무', '에이핑크', '걸스데이', '트와이스']\n",
        "\n",
        "#메인코드\n",
        "node1 = TreeNode()\n",
        "node1.data = nameArray[0] #인덱스 [0]첫번째 데이터를 노드 데이터로\n",
        "root = node1 #첫번째 노드를 루트 노드로\n",
        "memory.append(node1)\n",
        "\n",
        "for name in nameArray[1:]:\n",
        "  node1 = TreeNode()\n",
        "  node1.data = name\n",
        "\n",
        "  current = root\n",
        "\n",
        "  while True:\n",
        "    if name < current.data: #루트보다 문자열이 작은건 왼쪽인것을 응용\n",
        "      if current.left == None:\n",
        "        current.left = node1\n",
        "        break\n",
        "      current = current.left\n",
        "    else:\n",
        "      if current.right == None:\n",
        "        current.right = node1\n",
        "        break\n",
        "      current = current.right #루트보다 큰건 오른쪽.\n",
        "    memory.append(node1)\n",
        "\n",
        "print(\"이진탐색트리 구현 완료 : \")"
      ],
      "metadata": {
        "colab": {
          "base_uri": "https://localhost:8080/"
        },
        "id": "RJMY1tOMN34V",
        "outputId": "fcb881df-1df5-40f0-e739-10140a6594fc"
      },
      "execution_count": null,
      "outputs": [
        {
          "output_type": "stream",
          "name": "stdout",
          "text": [
            "이진탐색트리 구현 완료 : \n"
          ]
        }
      ]
    },
    {
      "cell_type": "markdown",
      "source": [
        "###루트를 이용한 트리 검색"
      ],
      "metadata": {
        "id": "kVP0GyUscDmQ"
      }
    },
    {
      "cell_type": "code",
      "source": [
        "findName = input('검색하고자하는 이름을 적으시오 : ')\n",
        "\n",
        "current = root\n",
        "while True:\n",
        "    if findName == current.data:\n",
        "        print(findName, '을 찾음')\n",
        "        break\n",
        "    elif findName < current.data : #  찾은 값이 현재 값보다 작으면 왼쪽으로\n",
        "        if current.left == None:\n",
        "            print(findName, '이 트리에 없음')\n",
        "            break\n",
        "        current = current.left\n",
        "    else:                           #  찾은 값이 현재 값보다 크면 오른쪽으로\n",
        "        if current.right == None:\n",
        "            print(findName, '이 트리에 없음')\n",
        "            break\n",
        "        current = current.right\n"
      ],
      "metadata": {
        "colab": {
          "base_uri": "https://localhost:8080/"
        },
        "id": "H_xf9zX6ZM5c",
        "outputId": "0f3fbc12-3325-4e9a-f0ba-9a384be1d2b0"
      },
      "execution_count": null,
      "outputs": [
        {
          "output_type": "stream",
          "name": "stdout",
          "text": [
            "검색하고자하는 이름을 적으시오 : xa\n",
            "xa 이 트리에 없음\n"
          ]
        }
      ]
    },
    {
      "cell_type": "markdown",
      "source": [
        "###트리 삭제"
      ],
      "metadata": {
        "id": "3da18Rb6cHvn"
      }
    },
    {
      "cell_type": "code",
      "source": [
        "deleteName = input('삭제할 이름을 적으시오 : ')\n",
        "current = root\n",
        "parent = None\n",
        "while True:\n",
        "    if deleteName == current.data:\n",
        "        if current.left==None and current.right==None:\n",
        "            if parent.left == current:\n",
        "                parent.left = None\n",
        "            else:\n",
        "                parent.right = None\n",
        "            del(current)\n",
        "\n",
        "        elif current.left != None and current.right==None:\n",
        "                if parent.left == current:\n",
        "                    parent.left = current.left\n",
        "                else:\n",
        "                    parent.right = current.left\n",
        "                del(current)\n",
        "\n",
        "        elif current.left != None and current.right != None:\n",
        "                if parent.left == current:\n",
        "                    parent.left = current.left\n",
        "                else:\n",
        "                    parent.right = current.right\n",
        "                del(current)\n",
        "        print(deleteName, ' 이 삭제됨')\n",
        "        break\n",
        "    elif deleteName < current.data :\n",
        "        if current.left == None:\n",
        "            print(deleteName, '이 트리에 없음')\n",
        "            break\n",
        "        parent = current\n",
        "        current = current.left\n",
        "    else:\n",
        "        if current.right == None:\n",
        "            print(deleteName, '이 트리에 없음')\n",
        "            break\n",
        "        parent = current\n",
        "        current = current.right"
      ],
      "metadata": {
        "colab": {
          "base_uri": "https://localhost:8080/"
        },
        "id": "wzEjsyjtcKMD",
        "outputId": "b325b1b1-a745-41a1-f72b-87bf84c1a8d6"
      },
      "execution_count": null,
      "outputs": [
        {
          "output_type": "stream",
          "name": "stdout",
          "text": [
            "삭제할 이름을 적으시오 : f\n",
            "f 이 트리에 없음\n"
          ]
        }
      ]
    }
  ]
}