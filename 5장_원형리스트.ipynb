{
  "nbformat": 4,
  "nbformat_minor": 0,
  "metadata": {
    "colab": {
      "provenance": [],
      "authorship_tag": "ABX9TyM78BGxo8x3ml/yRlEo4lTl",
      "include_colab_link": true
    },
    "kernelspec": {
      "name": "python3",
      "display_name": "Python 3"
    },
    "language_info": {
      "name": "python"
    }
  },
  "cells": [
    {
      "cell_type": "markdown",
      "metadata": {
        "id": "view-in-github",
        "colab_type": "text"
      },
      "source": [
        "<a href=\"https://colab.research.google.com/github/udg2019/oss/blob/master/5%EC%9E%A5_%EC%9B%90%ED%98%95%EB%A6%AC%EC%8A%A4%ED%8A%B8.ipynb\" target=\"_parent\"><img src=\"https://colab.research.google.com/assets/colab-badge.svg\" alt=\"Open In Colab\"/></a>"
      ]
    },
    {
      "cell_type": "markdown",
      "source": [
        "# 원형 연결 리스트의 기본\n",
        "\n",
        "- 선형리스트\n",
        "\n",
        "\n",
        " 데이터를 일정한 순서로 나열한 자료구조.\n",
        "\n",
        "\n",
        " 순차리스트라고도함.\n",
        " 입력순서대로 저장하는 데이터에 적합.\n",
        " 노드순서 X 데이터의 실제 위치 순서\n",
        "\n",
        "\n",
        "\n",
        "\n",
        "- 단순연결리스트\n",
        "\n",
        "\n",
        " a(head)->b->c->d\n",
        " 데이터를 차례대로 저장함. 물리적으로 떨어진곳에 순서로    데이터 구성, 데이터를 가르키는 링크가 필요.\n",
        "\n",
        "\n",
        "- 원형연결리스트\n",
        "\n",
        "\n",
        "  a->b->c->d->a\n",
        "  형태자체는 단순연결리스트에서 시작됨순환됨. 마지막     노드가 첫번 노드를 가리키도록 설정"
      ],
      "metadata": {
        "id": "DQlD42rWqw_K"
      }
    },
    {
      "cell_type": "code",
      "source": [
        "#원령리스트는 오버리스트가 발생하지 않는 이점이 있음\n",
        "#(오버헤드: 프로그램 실행 중 나타나는 현상. 대충 선형처럼 중간에 다르걸 밀어넣고 끼워넣는데 시간이 걸림.\n",
        "#원형은 화살표만 바꾸면됨.)\n",
        "\n",
        "#복습 데이터+링크\n",
        "class Node():\n",
        "  def __init__(self):\n",
        "    self.data = None\n",
        "    self.link = None\n",
        "\n",
        "#저 위는 차례대로\n",
        "#1.노드라는 데이터값을 생성 비어있음.\n",
        "#2.자동으로 실행되는 부분, __init__함수는 초기화 정의. 즉 실행한뒤에 초기화한다.\n",
        "#3.data속성에 값없음이 들어감\n",
        "#4.link속성에 값없음이 들어감. 이들은 뒤에서 불러오는걸로 다시 적기 위함.\n"
      ],
      "metadata": {
        "id": "oc3ALA22sImp"
      },
      "execution_count": null,
      "outputs": []
    },
    {
      "cell_type": "code",
      "source": [
        "\n",
        "node1 = Node()\n",
        "node1.data = \"다현\"\n",
        "\n",
        "print(node1.data)\n",
        "\n",
        "node1.link = node2"
      ],
      "metadata": {
        "colab": {
          "base_uri": "https://localhost:8080/"
        },
        "id": "8r9WHrBGxiDR",
        "outputId": "a85b0649-4549-4f28-e5da-486255bc238b"
      },
      "execution_count": null,
      "outputs": [
        {
          "output_type": "stream",
          "name": "stdout",
          "text": [
            "다현\n"
          ]
        }
      ]
    },
    {
      "cell_type": "code",
      "source": [
        "node2 = Node()\n",
        "node2.data = \"정연\"\n",
        "node1.link = node2\n",
        "node2.link = node3 # node3~4가 생겼으니 1에서 3으로 변경. 이게 원형리스트의 핵심임\n",
        "\n",
        "print(node1.data)\n",
        "print(node1.link.data)\n",
        "print(node2.link.data)"
      ],
      "metadata": {
        "colab": {
          "base_uri": "https://localhost:8080/"
        },
        "id": "X5t5-WfQxviB",
        "outputId": "2a8271d6-68b0-4ce1-be13-87d2c7352539"
      },
      "execution_count": null,
      "outputs": [
        {
          "output_type": "stream",
          "name": "stdout",
          "text": [
            "다현\n",
            "정연\n",
            "쯔위\n"
          ]
        }
      ]
    },
    {
      "cell_type": "code",
      "source": [
        "#세번째 노드 생성\n",
        "node3 = Node()\n",
        "node3.data = \"쯔위\"\n",
        "\n",
        "node2.link = node3"
      ],
      "metadata": {
        "id": "HE_P_h_yyNWp"
      },
      "execution_count": null,
      "outputs": []
    },
    {
      "cell_type": "code",
      "source": [
        "node4 = Node()\n",
        "node4.data = \"사나\"\n",
        "\n",
        "node3.link = node4"
      ],
      "metadata": {
        "colab": {
          "base_uri": "https://localhost:8080/"
        },
        "id": "-qCWMlEU2lNr",
        "outputId": "3fd60cfa-371e-41a9-952b-cc868623c45b"
      },
      "execution_count": null,
      "outputs": [
        {
          "output_type": "stream",
          "name": "stdout",
          "text": [
            "다현\n",
            "정연\n",
            "쯔위\n",
            "사나\n",
            "사나\n"
          ]
        }
      ]
    },
    {
      "cell_type": "code",
      "source": [
        "node5 = Node()\n",
        "node5.data = \"지효\"\n",
        "\n",
        "node4.link = node5\n",
        "node5.link = node1\n",
        "\n",
        "print(node1.data)\n",
        "print(node1.link.data)\n",
        "print(node1.link.link.data)\n",
        "print(node1.link.link.link.data)\n",
        "print(node4.data)\n",
        "print(node4.link.data)"
      ],
      "metadata": {
        "colab": {
          "base_uri": "https://localhost:8080/"
        },
        "id": "Ypb3GPmR4AnM",
        "outputId": "40a29f4c-0be2-4259-f892-e269baa17f3c"
      },
      "execution_count": null,
      "outputs": [
        {
          "output_type": "stream",
          "name": "stdout",
          "text": [
            "다현\n",
            "정연\n",
            "쯔위\n",
            "사나\n",
            "사나\n",
            "지효\n"
          ]
        }
      ]
    },
    {
      "cell_type": "code",
      "source": [
        "current = node1 #커렌트와 node1.data는 같은걸로 하겠다 (얕은복사)\n",
        "\n",
        "while current.link != node1: #현재노드가 1이 아닐동안 반복하기\n",
        "  current = current.link\n",
        "  print(current.data, end=\" \")"
      ],
      "metadata": {
        "colab": {
          "base_uri": "https://localhost:8080/"
        },
        "id": "4_AB76ai3Od7",
        "outputId": "f97dc712-79fe-4e02-cf5b-2551f4c91a70"
      },
      "execution_count": null,
      "outputs": [
        {
          "output_type": "stream",
          "name": "stdout",
          "text": [
            "정연 사나 지효 "
          ]
        }
      ]
    },
    {
      "cell_type": "code",
      "source": [
        "#current = node1 #커렌트와 node1.data는 같은걸로 하겠다 (얕은복사)\n",
        "#print(current.data, end= \" \") 위에 되어있음\n",
        "\n",
        "#출력함수(클래스)로 표현\n",
        "\n",
        "def printNode(current):\n",
        "  print(current.data, end=\" \")\n",
        "  while current.link !=node1:\n",
        "    current=current.link\n",
        "    print(current.data, end=\" \")\n",
        "\n",
        "#printNode(node1)"
      ],
      "metadata": {
        "colab": {
          "base_uri": "https://localhost:8080/"
        },
        "id": "nxf02Ix04QZc",
        "outputId": "b2b33eff-62ba-4e71-9d08-4b8d8e847a7f"
      },
      "execution_count": null,
      "outputs": [
        {
          "output_type": "stream",
          "name": "stdout",
          "text": [
            "다현 정연 쯔위 사나 지효 "
          ]
        }
      ]
    },
    {
      "cell_type": "markdown",
      "source": [
        "## 노드 추가\n",
        "- 재남이 추가\n",
        "- 재남이 앞에 있던 데이터링크를 재남이에게 연결"
      ],
      "metadata": {
        "id": "x3HUEXO9435o"
      }
    },
    {
      "cell_type": "code",
      "source": [
        "newNode = Node()\n",
        "newNode.data = \"재남\"\n",
        "\n",
        "# 이게 추가의 핵심.\n",
        "newNode.link = node3\n",
        "\n",
        "node2.link = newNode\n",
        "#printNode(node1)"
      ],
      "metadata": {
        "colab": {
          "base_uri": "https://localhost:8080/"
        },
        "id": "2GT124b646lC",
        "outputId": "47b4a68d-dae6-48f1-9166-222dbf0c2413"
      },
      "execution_count": null,
      "outputs": [
        {
          "output_type": "stream",
          "name": "stdout",
          "text": [
            "다현 정연 재남 쯔위 사나 지효 "
          ]
        }
      ]
    },
    {
      "cell_type": "markdown",
      "source": [
        "## 노드 삭제 (정연 -> 재남, 쯔위 삭제 -> 사나)\n",
        "- 원하는 링크를 변경후 필요없는 노드 삭제"
      ],
      "metadata": {
        "id": "HP8-6Tj26RnQ"
      }
    },
    {
      "cell_type": "code",
      "source": [
        "#위에서 보았다시피 노드2 링크는 이제 재남.\n",
        "node2.link = node4 #교제에선 node4.link로 링크값 변경했음.\n",
        "\n",
        "del(newNode)\n",
        "del(node3)\n",
        "\n",
        "printNode(node1)"
      ],
      "metadata": {
        "colab": {
          "base_uri": "https://localhost:8080/"
        },
        "id": "3DmTOYy_6tx6",
        "outputId": "ad2f8b63-c80e-4df6-da44-f18044273478"
      },
      "execution_count": null,
      "outputs": [
        {
          "output_type": "stream",
          "name": "stdout",
          "text": [
            "다현 정연 사나 지효 "
          ]
        }
      ]
    }
  ]
}