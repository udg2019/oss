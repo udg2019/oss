{
  "nbformat": 4,
  "nbformat_minor": 0,
  "metadata": {
    "colab": {
      "provenance": [],
      "authorship_tag": "ABX9TyMyO+E3XMNaD6pLRUB0KoTi"
    },
    "kernelspec": {
      "name": "python3",
      "display_name": "Python 3"
    },
    "language_info": {
      "name": "python"
    }
  },
  "cells": [
    {
      "cell_type": "markdown",
      "source": [
        "### 공학용 계산기 개발의 필요성\n",
        "많은 공학생들이 계산기를 구매해야하는 문제를 해결하기 위해 만들었습니다\n",
        "예를 들어,\n",
        "$$x^6$$개발하는게 어렵습니다."
      ],
      "metadata": {
        "id": "97Fh30UfFHWJ"
      }
    },
    {
      "cell_type": "code",
      "execution_count": 1,
      "metadata": {
        "colab": {
          "base_uri": "https://localhost:8080/"
        },
        "id": "Ii7hgJ54EQHH",
        "outputId": "f62d0f5f-4164-47dc-a2c4-bd053a301636"
      },
      "outputs": [
        {
          "output_type": "stream",
          "name": "stdout",
          "text": [
            "10.0\n",
            "0\n",
            "10\n",
            "1\n"
          ]
        }
      ],
      "source": [
        "# @title Number fields\n",
        "x = 10.0 # @param {type:\"number\"}\n",
        "number_slider = -0.1 # @param {type:\"slider\", min:-1, max:1, step:0.1}\n",
        "\n",
        "y = 10 # @param {type:\"integer\"}\n",
        "integer_slider = 1 # @param {type:\"slider\", min:0, max:100, step:1}\n",
        "\n",
        "print(number_input)\n",
        "print(number_slider)\n",
        "\n",
        "print(integer_input)\n",
        "print(integer_slider)"
      ]
    }
  ]
}