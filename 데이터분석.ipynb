{
  "nbformat": 4,
  "nbformat_minor": 0,
  "metadata": {
    "colab": {
      "provenance": [],
      "toc_visible": true,
      "authorship_tag": "ABX9TyOAwpbW8EOzWFJe7XPUBe2E",
      "include_colab_link": true
    },
    "kernelspec": {
      "name": "python3",
      "display_name": "Python 3"
    },
    "language_info": {
      "name": "python"
    }
  },
  "cells": [
    {
      "cell_type": "markdown",
      "metadata": {
        "id": "view-in-github",
        "colab_type": "text"
      },
      "source": [
        "<a href=\"https://colab.research.google.com/github/udg2019/oss/blob/master/%EB%8D%B0%EC%9D%B4%ED%84%B0%EB%B6%84%EC%84%9D.ipynb\" target=\"_parent\"><img src=\"https://colab.research.google.com/assets/colab-badge.svg\" alt=\"Open In Colab\"/></a>"
      ]
    },
    {
      "cell_type": "markdown",
      "source": [
        "켈리포니아 집값_train, 샘플데이터."
      ],
      "metadata": {
        "id": "VZL74CC-K5f4"
      }
    },
    {
      "cell_type": "code",
      "execution_count": 3,
      "metadata": {
        "colab": {
          "base_uri": "https://localhost:8080/"
        },
        "id": "cMKJoULjKmdP",
        "outputId": "96c0c9ef-ab8b-4fc9-e4bc-ae76cb294313"
      },
      "outputs": [
        {
          "output_type": "stream",
          "name": "stdout",
          "text": [
            "Mean Squared Error: 4634658406.223264\n"
          ]
        }
      ],
      "source": [
        "# prompt: /content/sample_data/california_housing_train.csv 으로부터 집값을 예측하는 코드를 생성해줘. median_house_value\n",
        "\n",
        "import pandas as pd\n",
        "from sklearn.model_selection import train_test_split\n",
        "from sklearn.linear_model import LinearRegression\n",
        "from sklearn.metrics import mean_squared_error\n",
        "\n",
        "# 데이터 로드\n",
        "try:\n",
        "    df = pd.read_csv('/content/sample_data/california_housing_train.csv')\n",
        "except FileNotFoundError:\n",
        "    print(\"Error: File not found. Please make sure the file path is correct.\")\n",
        "    exit()\n",
        "\n",
        "\n",
        "# 특성(X)과 타겟 변수(y) 설정\n",
        "X = df.drop('median_house_value', axis=1)\n",
        "y = df['median_house_value']\n",
        "\n",
        "# 데이터 분할\n",
        "X_train, X_test, y_train, y_test = train_test_split(X, y, test_size=0.2, random_state=42)\n",
        "\n",
        "# 모델 생성 및 학습\n",
        "model = LinearRegression()\n",
        "model.fit(X_train, y_train)\n",
        "\n",
        "# 예측\n",
        "y_pred = model.predict(X_test)\n",
        "\n",
        "# 평가 (평균 제곱 오차)\n",
        "mse = mean_squared_error(y_test, y_pred)\n",
        "print(f\"Mean Squared Error: {mse}\")\n",
        "\n",
        "# 새로운 데이터로 예측 (예시)\n",
        "# 새로운 데이터를 딕셔너리 형태로 입력\n",
        "new_data = {\n",
        "    'longitude': -118.29,\n",
        "    'latitude': 34.05,\n",
        "    'housing_median_age': 25.0,\n",
        "    'total_rooms': 3400,\n",
        "    'total_bedrooms': 500,\n",
        "    'population': 1800,\n",
        "    'households': 600,\n",
        "    'median_income': 8.0,\n",
        "}\n",
        "\n",
        "# DataFrame으로 변환\n",
        "new_df = pd.DataFrame([new_data])\n",
        "\n",
        "# 예측\n",
        "predicted_price = model.predict(new_df)\n",
        "print(f\"Predicted Median House Value: {predicted_price[0]}\")\n"
      ]
    }
  ]
}