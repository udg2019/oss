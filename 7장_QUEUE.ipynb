{
  "nbformat": 4,
  "nbformat_minor": 0,
  "metadata": {
    "colab": {
      "provenance": [],
      "collapsed_sections": [
        "W7SOM_dFb-mf",
        "8Los-693cNP1",
        "xpSALdZFcc-I",
        "4RJS19ZmdreT",
        "xUxgWB32ghaO"
      ],
      "authorship_tag": "ABX9TyOK9qvbt9Nu6/ScmeBhKX1T",
      "include_colab_link": true
    },
    "kernelspec": {
      "name": "python3",
      "display_name": "Python 3"
    },
    "language_info": {
      "name": "python"
    }
  },
  "cells": [
    {
      "cell_type": "markdown",
      "metadata": {
        "id": "view-in-github",
        "colab_type": "text"
      },
      "source": [
        "<a href=\"https://colab.research.google.com/github/udg2019/oss/blob/master/7%EC%9E%A5_QUEUE.ipynb\" target=\"_parent\"><img src=\"https://colab.research.google.com/assets/colab-badge.svg\" alt=\"Open In Colab\"/></a>"
      ]
    },
    {
      "cell_type": "markdown",
      "source": [
        "##큐의 일반구현"
      ],
      "metadata": {
        "id": "W7SOM_dFb-mf"
      }
    },
    {
      "cell_type": "code",
      "execution_count": null,
      "metadata": {
        "id": "c7Mf1UZSWxba"
      },
      "outputs": [],
      "source": [
        "#큐의 일반 구현 (대략 이렇게 작동하는 데이터)\n",
        "\n",
        "queue = [None, None, None, None, None]\n",
        "front = rear = -1\n",
        "\n",
        "rear += 1\n",
        "queue[rear] = \"화사\"\n",
        "rear += 1\n",
        "queue[rear] = \"솔라\"\n",
        "rear += 1\n",
        "queue[rear] = \"문별\""
      ]
    },
    {
      "cell_type": "code",
      "source": [
        "# 현재 큐 상태가 어떤지 보는 구문.\n",
        "print(\"----- 큐 상태 -----\")\n",
        "print('[출구] <-- ',end=\" \")\n",
        "for i in range(0, len(queue), 1): #0에서부터, 큐의 전체 랭스와 같은값이 될때까지 아래의 구문을 실행시키고, 0을 1씩 증가시킴\n",
        "  print(queue[i],end=' | ')\n",
        "print('<-- [입구]')"
      ],
      "metadata": {
        "colab": {
          "base_uri": "https://localhost:8080/"
        },
        "id": "NrfdLPHvaODo",
        "outputId": "2b51b2ec-bb45-4e39-bc23-7a42214c4532"
      },
      "execution_count": null,
      "outputs": [
        {
          "output_type": "stream",
          "name": "stdout",
          "text": [
            "----- 큐 상태 -----\n",
            "[출구] <--  화사 | 솔라 | 문별 | None | None | <-- [입구]\n"
          ]
        }
      ]
    },
    {
      "cell_type": "markdown",
      "source": [
        "###데이터를 추출하기"
      ],
      "metadata": {
        "id": "8Los-693cNP1"
      }
    },
    {
      "cell_type": "code",
      "source": [
        "front = -1\n",
        "rear = 2\n",
        "\n",
        "#데이터를 추출하기\n",
        "front += 1 # -1 | [0] [1] [2] [3]  일때 [0번 방으로 들어감]\n",
        "data = queue[front] # 그 방의 데이터를 data에 넣음.\n",
        "queue[front] = None # 그 방을 비움.\n",
        "print('deQueue -->', data)\n",
        "\n",
        "front += 1\n",
        "data = queue[front]\n",
        "queue[front] = None\n",
        "print('deQueue -->', data)\n",
        "\n",
        "front += 1\n",
        "data = queue[front]\n",
        "queue[front] = None\n",
        "print('deQueue -->', data)\n",
        "print('-----------------')\n",
        "\n",
        "\n",
        "\n",
        "# 현재 큐 상태가 어떤지 보는 구문.\n",
        "print(\"----- 큐 상태 -----\")\n",
        "print('[출구] <-- ',end=\" \")\n",
        "for i in range(0, len(queue), 1):\n",
        "  print(queue[i],end=' | ')\n",
        "print('<-- [입구]')"
      ],
      "metadata": {
        "colab": {
          "base_uri": "https://localhost:8080/"
        },
        "id": "JtfrxjxoZA0d",
        "outputId": "d065c356-208c-4419-e2c5-f8994c4c3be5"
      },
      "execution_count": null,
      "outputs": [
        {
          "output_type": "stream",
          "name": "stdout",
          "text": [
            "deQueue --> 화사\n",
            "deQueue --> 솔라\n",
            "deQueue --> 문별\n",
            "-----------------\n",
            "----- 큐 상태 -----\n",
            "[출구] <--  None | None | None | None | None | <-- [입구]\n"
          ]
        }
      ]
    },
    {
      "cell_type": "markdown",
      "source": [
        "##큐 초기화"
      ],
      "metadata": {
        "id": "xpSALdZFcc-I"
      }
    },
    {
      "cell_type": "code",
      "source": [
        "queue = [None, None, None, None, None] #단, 사이즈가 훨씬 큰 큐에선 None을 일일히 타이핑 할수가 없음.\n",
        "\n",
        "#그래서 다음 방법을 사용함\n",
        "SIZE = 5 #큐 크기\n",
        "queue = [None for _ in range(SIZE)] #대략 큐 안의 모든것을 None으로 전부 바꿔버림\n",
        "front = rear = -1 #전부 초기화 했으니 머리와 꼬리도 초기화가 필요"
      ],
      "metadata": {
        "id": "3z5znyVpch-Z"
      },
      "execution_count": null,
      "outputs": []
    },
    {
      "cell_type": "markdown",
      "source": [
        "##큐의 함수 구현 (꽉 참 확인 => 삽입), (비어있음 확인 => 추출 or 위치확인)"
      ],
      "metadata": {
        "id": "98_9Uer8jiof"
      }
    },
    {
      "cell_type": "markdown",
      "source": [
        "###큐가 꽉 찼는지 확인후 삽입"
      ],
      "metadata": {
        "id": "4RJS19ZmdreT"
      }
    },
    {
      "cell_type": "code",
      "source": [
        "#큐가 다 찼는지 확인하는 구문\n",
        "\n",
        "def isQueueFull():\n",
        "  global SIZE, queue, front, rear\n",
        "  if (rear == SIZE-1): #끝자리(rear)는 0 1 2 3 4로 되니 그냥 인트인 사이즈는(5) -1 되어야함.\n",
        "    return True\n",
        "  else:\n",
        "    return False\n",
        "\n",
        "SIZE =5\n",
        "queue = [\"화사\", \"솔라\", \"문별\", \"휘인\", \"선미\"]\n",
        "front = -1\n",
        "rear = 4\n",
        "\n",
        "print(\"큐가 꽉 찼나요? : \",isQueueFull())"
      ],
      "metadata": {
        "colab": {
          "base_uri": "https://localhost:8080/"
        },
        "id": "QI9HNjFydvQl",
        "outputId": "b3cef8bb-9be6-45bb-ba25-885ec677b2fd"
      },
      "execution_count": null,
      "outputs": [
        {
          "output_type": "stream",
          "name": "stdout",
          "text": [
            "큐가 꽉 찼나요? :  True\n"
          ]
        }
      ]
    },
    {
      "cell_type": "code",
      "source": [
        "#데이터를 중간에 삽입하는 함수\n",
        "def enQueue(data):\n",
        "  global SIZE, queue, front, rear\n",
        "  if(isQueueFull()): #기본이 True\n",
        "    print(\"큐가 꽉 찼습니다.\")\n",
        "    return #꽉차면 이 아래까지 내려가지 않고 여기서 끝.\n",
        "  rear += 1\n",
        "  queue[rear] = data\n",
        "\n",
        "SIZE = 5\n",
        "queue = [\"화사\", \"솔라\", \"문별\", \"휘인\", None]\n",
        "front = -1\n",
        "rear = 3\n",
        "\n",
        "print(queue)\n",
        "enQueue(\"선미\")\n",
        "print(queue)\n",
        "enQueue(\"재남\")"
      ],
      "metadata": {
        "colab": {
          "base_uri": "https://localhost:8080/"
        },
        "id": "9cfGI8qYfEk_",
        "outputId": "27dfcfe5-239c-49d2-cdfa-bcf62d13db95"
      },
      "execution_count": null,
      "outputs": [
        {
          "output_type": "stream",
          "name": "stdout",
          "text": [
            "['화사', '솔라', '문별', '휘인', None]\n",
            "['화사', '솔라', '문별', '휘인', '선미']\n",
            "큐가 꽉 찼습니다.\n"
          ]
        }
      ]
    },
    {
      "cell_type": "markdown",
      "source": [
        "###큐가 비었는지 확인 후 추출"
      ],
      "metadata": {
        "id": "xUxgWB32ghaO"
      }
    },
    {
      "cell_type": "code",
      "source": [
        "SIZE = 5\n",
        "queue = [None for _ in range(SIZE)]\n",
        "front = rear = -1\n",
        "\n",
        "#  fr,re | [None] [None] [None] [None] [None]\n",
        "\n",
        "#저 위의 큐가 비었는지 확인하는 구문\n",
        "def isQueueEmpty():\n",
        "  global SIZE, queue, front, rear\n",
        "  if (front == rear): #추출되는 상황이 아닌이상 데이터가 삽입되어있어도 프론트는 -1임. 즉 리어와 같으면 없고 리어가 더 크면 뭔가가 있다는 것\n",
        "    return True\n",
        "  else:\n",
        "    return False\n",
        "\n",
        "print(\"큐가 비었나요? : \",isQueueEmpty())"
      ],
      "metadata": {
        "colab": {
          "base_uri": "https://localhost:8080/"
        },
        "id": "uiAoG0oHgkrX",
        "outputId": "03630568-858c-4543-9b94-9042e586e636"
      },
      "execution_count": null,
      "outputs": [
        {
          "output_type": "stream",
          "name": "stdout",
          "text": [
            "큐가 비었나요? :  True\n"
          ]
        }
      ]
    },
    {
      "cell_type": "code",
      "source": [
        "SIZE = 5\n",
        "queue = [\"화사\",None,None,None,None]\n",
        "front = -1\n",
        "rear = 0\n",
        "\n",
        "\n",
        "\n",
        "#큐가 비었는지 확인한 뒤에 데이터를 추출하는 함수\n",
        "def deQueue():\n",
        "  global SIZE, queue, front, rear\n",
        "  if(isQueueEmpty()): #기본이 True\n",
        "    print(\"큐가 비었습니다.\") #해당되면 이 아래까지 내려가지 않고 여기서 끝.\n",
        "    return\n",
        "  front += 1 # -1 에서 0번으로 이동.\n",
        "  data = queue[front] #데이터에 [0]번 방 내용 저장후\n",
        "  queue[front] = None #비워버림.\n",
        "  return data #데이터를 들고 오기\n",
        "\n",
        "\n",
        "print(queue)\n",
        "retData = deQueue() #함수를 실행시킴과 동시에 들고 왔던 데이터를 retData에 또 넘겨주기.\n",
        "print(\"추출한 데이터 -->\", retData) #그 데이터가 뭔지 나옴.\n",
        "print(queue)\n",
        "retData = deQueue()"
      ],
      "metadata": {
        "colab": {
          "base_uri": "https://localhost:8080/"
        },
        "id": "OKbHISXEg8y1",
        "outputId": "3e79a4de-1124-476d-e087-818b8a5bf291"
      },
      "execution_count": null,
      "outputs": [
        {
          "output_type": "stream",
          "name": "stdout",
          "text": [
            "['화사', None, None, None, None]\n",
            "추출한 데이터 --> 화사\n",
            "[None, None, None, None, None]\n",
            "큐가 비었습니다.\n"
          ]
        }
      ]
    },
    {
      "cell_type": "code",
      "source": [
        "#위의 deQueue는 뽑아내지만 이렇게 확인만 하고 변동은 주지 않게 하는것도 가능 (peek)\n",
        "def peek():\n",
        "  global SIZE, queue, front, rear\n",
        "  if(isQueueEmpty()):\n",
        "    print(\"큐가 비었습니다\")\n",
        "    return None\n",
        "  return queue[front+1] #위에것관 달리 이것이 핵심임. +=가 아닌 인덱스 안에서 +이기 때문에 프론트와 리어를 흩트리지 않고 다음에 나올것만 출력.\n",
        "\n",
        "SIZE = 5\n",
        "queue = [\"화사\",\"솔라\",\"문별\",None,None]\n",
        "front = -1\n",
        "rear = 2\n",
        "\n",
        "print(queue)\n",
        "retData = peek()\n",
        "print(\"다음에 추출될 데이터 확인 -->\", retData)"
      ],
      "metadata": {
        "colab": {
          "base_uri": "https://localhost:8080/"
        },
        "id": "JR10jzwCi4kx",
        "outputId": "a575c95d-2549-46ba-c95d-c473ee8b9f07"
      },
      "execution_count": null,
      "outputs": [
        {
          "output_type": "stream",
          "name": "stdout",
          "text": [
            "['화사', '솔라', '문별', None, None]\n",
            "다음에 추출될 데이터 확인 --> 화사\n"
          ]
        }
      ]
    },
    {
      "cell_type": "markdown",
      "source": [
        "##기능 총 통합본"
      ],
      "metadata": {
        "id": "l5AyabpTlpRW"
      }
    },
    {
      "cell_type": "code",
      "source": [
        "# (1)큐가 꽉 찼는지 확인하는 함수 and (2)큐에 데이터 삽입\n",
        "#####################################################\n",
        "def isQueueFull():\n",
        "  global SIZE, queue, front, rear\n",
        "  if (rear == SIZE-1): #끝자리(rear)는 0 1 2 3 4로 되니 그냥 인트인 사이즈는(5) -1 되어야함.\n",
        "    return True\n",
        "  else:\n",
        "    return False\n",
        "#기존것은 데이터를 5개 삽입한뒤 빼도 더이상 데이터가 입력되지 않는 문제가 있었음.\n",
        "#(rear == 큐크기-1) 로 확인하는 것 자체가 데이터를 뺀뒤에 다시 사용하는걸 상정해서\n",
        "#만든게 아니라서 결함이 있기 때문.\n",
        "def isQueueFull():\n",
        "    global SIZE, queue, front, rear\n",
        "    if (rear != SIZE-1): #(1)리어가 큐크기-1이 아닐경우, 즉 리어가 사이즈의 최고 인덱스에 위치해 있지 않음 = 남아있는 공간이 있다는 의미.\n",
        "        return False\n",
        "\n",
        "    elif (rear == SIZE-1) and (front == -1): #여기가 저 위에 있던것, (2)기존의 이프문에서 앞자리도 -1이어야 한다는 조건도 만족해야만 True로 나오게 함.\n",
        "        return True                          #프론트가 -1이상인 경우 한번이상 추출함수를 돌려서 앞에걸 None으로 만들었다는 의미.\n",
        "\n",
        "    else: #(3) 1)번은 뒷쪽에 남아있는 공간이 있음을 확인해서 끝냈고, 이것의 경우엔 2)번에서 (front == -1)을 충족시키지 못해서 True가 못된 경우에 실행됨.\n",
        "        for n in range(front+1, SIZE):\n",
        "            queue[n-1] = queue[n] # -1 | 0 1 2 3 4\n",
        "            queue[n] = None       #\t       F f+       #(3.1) 우선 프론트가 있으니 그칸엔 None이 들어있는게 확실하니 +1를 한 위치에서\n",
        "        front -= 1                #       -n n   R           인덱스 끝자리까지의 내용이 들어가게 되는 n을 생성 [1],[2],[3],[4]\n",
        "        rear -= 1                 #      1 2 3 4 5    #(3.2) n에 있던걸 None이 들어있는게 확실한 n의 -1 자리 인덱스에 옮기고,\n",
        "        return False                                  #(3.3) 프론트와 리어를 각각 -1하여 정상적으로 만듬, 아직 앞쪽에 빈공간이 있긴 한데 [ ] [a] [b] [c] [ ]\n",
        "                                                      #      어차피 큐가 나가는 방향은 하나고 또 같은 상황이 발생하면 다시 이 엘스문이 돌아갈거임.\n",
        "##############\n",
        "def enQueue(data):\n",
        "    global SIZE, queue, front, rear # global 전역변수 size queue  /// 지역변수 front rear\n",
        "    if (isQueueFull()):\n",
        "        print(\"큐가 꽉 찼습니다.\")\n",
        "        return     # 종료의 의미\n",
        "    rear += 1\n",
        "    queue[rear] = data\n",
        "\n",
        "\n",
        "\n",
        "# (1)큐가 비어있는지 체크하는 함수 (2)큐에서 데이터 꺼내기 (추출)\n",
        "def isQueueEmpty():\n",
        "    global SIZE, queue, front, rear\n",
        "    if (front == rear):\n",
        "        return True\n",
        "    else:\n",
        "        return False\n",
        "def deQueue():\n",
        "    global SIZE, queue, front, rear\n",
        "    if (isQueueEmpty()):\n",
        "        print(\"큐가 비었습니다.\")\n",
        "        return None\n",
        "    front += 1\n",
        "    data = queue[front]\n",
        "    queue[front] = None\n",
        "    return data\n",
        "# 데이터 확인(front+1 위치)\n",
        "def peek():\n",
        "    global SIZE, queue, front, rear\n",
        "    if (isQueueEmpty()):\n",
        "        print(\"큐가 비었습니다. \")\n",
        "        return None\n",
        "    return queue[front+1]\n",
        "\n",
        "\n",
        "\n",
        "\n",
        "\n",
        "\n",
        "### 전역 변수 선언 부분 ###\n",
        "SIZE = int(input(\"큐 크기를 입력하세요 ==> \")) #입력받고,\n",
        "queue = [None for _ in range(SIZE)] #입력받은 만큼 queue의 인덱스를 생성.\n",
        "front = rear = -1\n",
        "\n",
        "\n",
        "\n",
        "### 메인 코드 부분 ###\n",
        "if __name__ == \"__main__\":\n",
        "    select = input(\"삽입(I)/추출(E)/확인(V)/종료(X) 중 하나를 선택 ==> \")\n",
        "    while (select !='X' and select != 'x'):\n",
        "        if select == 'I' or select == 'i':\n",
        "            data = input(\"입력할 데이터 ==> \")\n",
        "            enQueue(data)\n",
        "            print(\"큐 상태 : \",  queue)\n",
        "        elif select == 'E' or select == 'e':\n",
        "            data = deQueue()\n",
        "            print(\"추출한 데이터 ==> \", data)\n",
        "            print(\"큐 상태 : \", queue)\n",
        "        elif select == \"V\" or select == \"v\":\n",
        "            data = peek()\n",
        "            print(\"확인된 데이터 ==> \", data)\n",
        "            print(\"큐 상태 : \", queue)\n",
        "        else:\n",
        "            print(\"입력이 잘못되었습니다.\")\n",
        "\n",
        "        select = input(\"삽입(I)/추출(E)/확인(V)/종료(X) 중 하나를 선택 ==> \")\n",
        "    print(\"프로그램 종료\")"
      ],
      "metadata": {
        "id": "czzg2gkplukz"
      },
      "execution_count": null,
      "outputs": []
    }
  ]
}