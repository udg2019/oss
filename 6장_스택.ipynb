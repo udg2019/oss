{
  "nbformat": 4,
  "nbformat_minor": 0,
  "metadata": {
    "colab": {
      "provenance": [],
      "authorship_tag": "ABX9TyNqCR+a2lPrHvz5Dbx6yzv3",
      "include_colab_link": true
    },
    "kernelspec": {
      "name": "python3",
      "display_name": "Python 3"
    },
    "language_info": {
      "name": "python"
    }
  },
  "cells": [
    {
      "cell_type": "markdown",
      "metadata": {
        "id": "view-in-github",
        "colab_type": "text"
      },
      "source": [
        "<a href=\"https://colab.research.google.com/github/udg2019/oss/blob/master/6%EC%9E%A5_%EC%8A%A4%ED%83%9D.ipynb\" target=\"_parent\"><img src=\"https://colab.research.google.com/assets/colab-badge.svg\" alt=\"Open In Colab\"/></a>"
      ]
    },
    {
      "cell_type": "markdown",
      "source": [
        "# 스택의 간단 구현\n",
        "- 배열 형태\n",
        "- 배열 크기 미리 지정하여 빈 스택 만들기\n",
        "\n",
        "\n",
        "후입선출 ㅡ 스택 자료구조\n",
        "\n",
        "top의 위치는 처음엔 -1, 자료가 들어오면 0이 됨.\n",
        "크기가 5칸 인 스택은 다음과 같은 구조,\n",
        "-1 [ 0 | 1 | 2 | 3 | 4 ]"
      ],
      "metadata": {
        "id": "ai29KzA8y_jh"
      }
    },
    {
      "cell_type": "code",
      "source": [
        "#빈 스택의 생성 : None, 다른 컴파일에선 null일수도 있음.\n",
        "stack1 = [ None, None, None, None, None ]\n",
        "top = -1"
      ],
      "metadata": {
        "id": "cyKrYBk_0CYW"
      },
      "execution_count": null,
      "outputs": []
    },
    {
      "cell_type": "code",
      "source": [
        "# 데이터 삽입 (push)\n",
        "# 의사코드로 설명\n",
        "#1. 탑을 1증가시킨다\n",
        "#2. top위치에 커피 종이컵(데이터)를 넣는다\n",
        "#3. 1번과 2번을 반복하여 녹차 종이컵등등을 계속 넣는다\n",
        "\n",
        "\n",
        "top += 1 #top = top + 1 --> 현재 탑은 0\n",
        "stack1[top] = '커피'\n",
        "\n",
        "top += 1\n",
        "stack1[top] = '녹차'\n",
        "\n",
        "top += 1\n",
        "stack1[top] = '꿀물'"
      ],
      "metadata": {
        "colab": {
          "base_uri": "https://localhost:8080/"
        },
        "id": "EuGpG3k10w8h",
        "outputId": "0006393b-798b-4fc9-c571-dcc910b9402c"
      },
      "execution_count": null,
      "outputs": [
        {
          "output_type": "stream",
          "name": "stdout",
          "text": [
            "['커피', '녹차', '꿀물', None, None]\n",
            "None\n",
            "None\n",
            "꿀물\n",
            "녹차\n",
            "커피\n"
          ]
        }
      ]
    },
    {
      "cell_type": "code",
      "source": [
        "print(stack1)\n",
        "#----------------------------\n",
        "\n",
        "for i in range(len(stack1)-1, -1, -1): #랭스로 가져온 스택 리시트의 끝에서부터, 끝까지\n",
        "  print(stack1[i])"
      ],
      "metadata": {
        "colab": {
          "base_uri": "https://localhost:8080/"
        },
        "id": "ZULc4Wjq4WAC",
        "outputId": "e6601eb2-6c2f-4ce0-a544-f191b95c6ea0"
      },
      "execution_count": null,
      "outputs": [
        {
          "output_type": "stream",
          "name": "stdout",
          "text": [
            "['커피', '녹차', '꿀물', None, None]\n",
            "None\n",
            "None\n",
            "꿀물\n",
            "녹차\n",
            "커피\n"
          ]
        }
      ]
    },
    {
      "cell_type": "code",
      "source": [
        "#208p 데이터 추출\n",
        "#1. top위치의 데이터를 다른 변수에 넣는다\n",
        "#2. top위치에 None으로 만든다\n",
        "#3. top을 1 감소시킨다.\n",
        "#4. 1-3을 여러번 반복하여 빈 스택을 만든다\n",
        "poptest = ['커피', '녹차', '꿀물', None, None]\n",
        "top = 2\n",
        "\n",
        "#반복문으로 구현\n",
        "for i in range(len(poptest)-1, -1, -1): #랭스로 가져온 스택 리시트의 끝에서'부터', 끝까지\n",
        "  print(poptest[i])"
      ],
      "metadata": {
        "colab": {
          "base_uri": "https://localhost:8080/"
        },
        "id": "XCw-YcY920Wq",
        "outputId": "92bbccf5-b832-4f1b-b117-c5817d2092f5"
      },
      "execution_count": null,
      "outputs": [
        {
          "output_type": "stream",
          "name": "stdout",
          "text": [
            "None\n",
            "None\n",
            "꿀물\n",
            "녹차\n",
            "커피\n"
          ]
        }
      ]
    },
    {
      "cell_type": "code",
      "source": [
        "#209p 여기서부터가 *데이터를 빼는 법*\n",
        "\n",
        "data = poptest[top] #처음의 데이터의 값을 확인하기 위함,\n",
        "print(data) <= #1. 여기선 꿀물이었지만\n",
        "\n",
        "poptest[top] = None\n",
        "top -= 1\n",
        "print('---->', poptest) # 2. 이젠 꿀물이 없음\n",
        "\n",
        "#반복문으로 구현\n",
        "for i in range(len(poptest)-1, -1, -1):\n",
        "  poptest[top] = None\n",
        "  top -= 1\n",
        "  print('----->', poptest[i])"
      ],
      "metadata": {
        "colab": {
          "base_uri": "https://localhost:8080/"
        },
        "id": "a3eAUiTT_BK9",
        "outputId": "fc55d841-3971-45be-bca4-097a2cacf74c"
      },
      "execution_count": null,
      "outputs": [
        {
          "output_type": "stream",
          "name": "stdout",
          "text": [
            "----> ['커피', '녹차', None, None, None]\n",
            "-----> None\n",
            "-----> None\n",
            "-----> None\n",
            "-----> None\n",
            "-----> None\n"
          ]
        }
      ]
    },
    {
      "cell_type": "markdown",
      "source": [
        "#스택 일반구현, 210p\n",
        "위에서 나온것을 for문을 이용해 실용적으로 만듦.\n",
        "- 스택이 꽉찬건지 알려주는 함수\n",
        "- 및 삽입하는 함수\n",
        "- 및 비었는지 알려주는 함수\n",
        "- 및 추출하는 함수"
      ],
      "metadata": {
        "id": "9Ep4ad4WByqk"
      }
    },
    {
      "cell_type": "code",
      "source": [
        "SIZE = 5\n",
        "stack = ['커피','녹차','꿀물','콜라','환타']\n",
        "top = 4\n",
        "\n",
        "def isStackFull():\n",
        "  global SIZE, stack, top\n",
        "  if (top >= SIZE-1):\n",
        "    return True\n",
        "  else:\n",
        "    return False\n",
        "\n",
        "print(\"스택이 꽉 찼습니까?: \", isStackFull())"
      ],
      "metadata": {
        "colab": {
          "base_uri": "https://localhost:8080/"
        },
        "id": "MZo43ul_BlzQ",
        "outputId": "08f69acc-2b7e-4036-ae4c-472d4908ad48"
      },
      "execution_count": null,
      "outputs": [
        {
          "output_type": "stream",
          "name": "stdout",
          "text": [
            "스택이 꽉 찼습니까?:  True\n"
          ]
        }
      ]
    },
    {
      "cell_type": "code",
      "source": [
        "def isStackEmpty():\n",
        "  global SIZE, stack, top\n",
        "  if (top==-1):\n",
        "    return True\n",
        "  else:\n",
        "    return False\n",
        "\n",
        "SIZE = 5\n",
        "stack = [None for _ in range(SIZE)] #논을 반복해서, SIZE만큼 생성,\n",
        "top = -1\n",
        "\n",
        "print(stack)\n",
        "print(\"스택이 비었습니까?: \", isStackEmpty())"
      ],
      "metadata": {
        "colab": {
          "base_uri": "https://localhost:8080/"
        },
        "id": "ZfV8CKmYFos2",
        "outputId": "fd232408-d5f2-49c0-c36d-4d37aabd757c"
      },
      "execution_count": null,
      "outputs": [
        {
          "output_type": "stream",
          "name": "stdout",
          "text": [
            "[None, None, None, None, None]\n",
            "스택이 비었습니까?:  True\n"
          ]
        }
      ]
    },
    {
      "cell_type": "code",
      "source": [
        "# 추출하는 함수\n",
        "\n",
        "def pop():\n",
        "  global SIZE, stack, top\n",
        "  if (isStackEmpty()):\n",
        "    print(\"스택이 비었습니다.\")\n",
        "    return None\n",
        "  data = stack[top]\n",
        "  top -= 1\n",
        "  return data"
      ],
      "metadata": {
        "id": "_b9LResHLI0x"
      },
      "execution_count": null,
      "outputs": []
    },
    {
      "cell_type": "code",
      "source": [
        "# 스택에 데이터 삽입하는 함수 이즈 스택풀은 생략,\n",
        "\n",
        "def push(data):\n",
        "  global SIZE, stack, top\n",
        "  if(isStackFull()):\n",
        "    print(\"스택이 꽉 참.\")\n",
        "    return\n",
        "  top += 1\n",
        "  stack[top] = data"
      ],
      "metadata": {
        "id": "c_rkyEKjDvLe"
      },
      "execution_count": null,
      "outputs": []
    },
    {
      "cell_type": "markdown",
      "source": [
        "위 함수를 이용\n"
      ],
      "metadata": {
        "id": "_AmRTO3GMg3K"
      }
    },
    {
      "cell_type": "code",
      "source": [
        "SIZE = 5\n",
        "stack = ['커피','녹차','꿀물','콜라',None]\n",
        "top = 3\n",
        "\n",
        "print(stack)\n",
        "push(\"환타\")\n",
        "print(stack)\n",
        "push(\"개또레이\")"
      ],
      "metadata": {
        "colab": {
          "base_uri": "https://localhost:8080/"
        },
        "id": "jtpns8FBDz6m",
        "outputId": "36930682-9483-4da5-e389-96abff6537e8"
      },
      "execution_count": null,
      "outputs": [
        {
          "output_type": "stream",
          "name": "stdout",
          "text": [
            "['커피', '녹차', '꿀물', '콜라', None]\n",
            "['커피', '녹차', '꿀물', '콜라', '환타']\n",
            "스택이 꽉 참.\n"
          ]
        }
      ]
    },
    {
      "cell_type": "code",
      "source": [
        "SIZE = 5\n",
        "stack = ['커피', None, None, None, None]\n",
        "top = 0\n",
        "\n",
        "print(stack)\n",
        "re = pop()\n",
        "print(\"추출한 데이터: \", re)\n",
        "print(stack)\n",
        "re = pop()\n",
        "print(\"추출한 데이터: \", re)\n",
        "print(stack)"
      ],
      "metadata": {
        "colab": {
          "base_uri": "https://localhost:8080/"
        },
        "id": "WE-tqqmEJj5d",
        "outputId": "faac356f-02f5-4345-8c26-1f61540754b4"
      },
      "execution_count": null,
      "outputs": [
        {
          "output_type": "stream",
          "name": "stdout",
          "text": [
            "['커피', None, None, None, None]\n",
            "추출한 데이터:  커피\n",
            "['커피', None, None, None, None]\n",
            "스택이 비었습니다.\n",
            "추출한 데이터:  None\n",
            "['커피', None, None, None, None]\n"
          ]
        }
      ]
    },
    {
      "cell_type": "markdown",
      "source": [
        "# 스택 응용\n",
        "\n",
        "이전 사이트로 이동해버리기\n",
        "\n",
        "및 어느 함수 총정리 및 어느 함수를 실행할것인가 텍스트로 선택"
      ],
      "metadata": {
        "id": "9dIwt2c0N6S5"
      }
    },
    {
      "cell_type": "code",
      "source": [
        "import webbrowser\n",
        "webbrowser.open(\"https://www.hanbit.co.kr\")"
      ],
      "metadata": {
        "colab": {
          "base_uri": "https://localhost:8080/"
        },
        "id": "xx4igbUcN4Us",
        "outputId": "a52e8659-5d88-49be-c90a-cf09e9068ae8"
      },
      "execution_count": null,
      "outputs": [
        {
          "output_type": "execute_result",
          "data": {
            "text/plain": [
              "False"
            ]
          },
          "metadata": {},
          "execution_count": 66
        }
      ]
    },
    {
      "cell_type": "code",
      "source": [
        "import webbrowser\n",
        "import time\n",
        "\n",
        "## 함수 선언 부분 ##\n",
        "def isStackFull() :\n",
        "\tglobal SIZE, stack, top\n",
        "\tif (top >= SIZE-1) :\n",
        "\t\treturn True\n",
        "\telse :\n",
        "\t\treturn False\n",
        "\n",
        "def isStackEmpty() :\n",
        "\tglobal SIZE, stack, top\n",
        "\tif (top == -1) :\n",
        "\t\treturn True\n",
        "\telse :\n",
        "\t\treturn False\n",
        "\n",
        "def push(data) :\n",
        "\tglobal SIZE, stack, top\n",
        "\tif (isStackFull()) :\n",
        "\t\tprint(\"스택이 꽉 찼습니다.\")\n",
        "\t\treturn\n",
        "\ttop += 1\n",
        "\tstack[top] = data\n",
        "\n",
        "def pop() :\n",
        "\tglobal SIZE, stack, top\n",
        "\tif (isStackEmpty()) :\n",
        "\t\tprint(\"스택이 비었습니다.\")\n",
        "\t\treturn None\n",
        "\tdata = stack[top]\n",
        "\tstack[top] = None\n",
        "\ttop -= 1\n",
        "\treturn data\n",
        "\n",
        "def peek() :\n",
        "\tglobal SIZE, stack, top\n",
        "\tif (isStackEmpty()) :\n",
        "\t\tprint(\"스택이 비었습니다.\")\n",
        "\t\treturn None\n",
        "\treturn stack[top]\n",
        "\n",
        "## 전역 변수 선언 부분 ##\n",
        "SIZE = 100\n",
        "stack = [ None for _ in range(SIZE) ]\n",
        "top = -1\n",
        "\n",
        "## 메인 코드 부분 ##\n",
        "if __name__ == \"__main__\" :\n",
        "\turls = [ 'naver.com', 'daum.net', 'nate.com']\n",
        "\n",
        "\tfor url in urls :\n",
        "\t\tpush(url)\n",
        "\t\twebbrowser.open('http://'+url)\n",
        "\t\tprint(url, end = '-->')\n",
        "\t\ttime.sleep(1)\n",
        "\n",
        "\tprint(\"방문 종료\")\n",
        "\ttime.sleep(5)\n",
        "\n",
        "\twhile True :\n",
        "\t\turl = pop()\n",
        "\t\tif url == None :\n",
        "\t\t\tbreak\n",
        "\t\twebbrowser.open('http://'+url)\n",
        "\t\tprint(url, end = '-->')\n",
        "\t\ttime.sleep(1)\n",
        "\tprint(\"방문 종료\")"
      ],
      "metadata": {
        "colab": {
          "base_uri": "https://localhost:8080/"
        },
        "id": "HkcpnDASQymV",
        "outputId": "86942557-4975-424e-99f8-fa2036c9b91c"
      },
      "execution_count": null,
      "outputs": [
        {
          "output_type": "stream",
          "name": "stdout",
          "text": [
            "naver.com-->daum.net-->nate.com-->방문 종료\n",
            "nate.com-->daum.net-->naver.com-->스택이 비었습니다.\n",
            "방문 종료\n"
          ]
        }
      ]
    },
    {
      "cell_type": "code",
      "source": [
        "## 함수 선언 부분 ##\n",
        "def isStackFull() :\n",
        "\tglobal SIZE, stack, top\n",
        "\tif (top >= SIZE-1) :\n",
        "\t\treturn True\n",
        "\telse :\n",
        "\t\treturn False\n",
        "\n",
        "def isStackEmpty() :\n",
        "\tglobal SIZE, stack, top\n",
        "\tif (top == -1) :\n",
        "\t\treturn True\n",
        "\telse :\n",
        "\t\treturn False\n",
        "\n",
        "def push(data) :\n",
        "\tglobal SIZE, stack, top\n",
        "\tif (isStackFull()) :\n",
        "\t\tprint(\"스택이 꽉 찼습니다.\")\n",
        "\t\treturn\n",
        "\ttop += 1\n",
        "\tstack[top] = data\n",
        "\n",
        "def pop() :\n",
        "\tglobal SIZE, stack, top\n",
        "\tif (isStackEmpty()) :\n",
        "\t\tprint(\"스택이 비었습니다.\")\n",
        "\t\treturn None\n",
        "\tdata = stack[top]\n",
        "\tstack[top] = None\n",
        "\ttop -= 1\n",
        "\treturn data\n",
        "\n",
        "def peek() :\n",
        "\tglobal SIZE, stack, top\n",
        "\tif (isStackEmpty()) :\n",
        "\t\tprint(\"스택이 비었습니다.\")\n",
        "\t\treturn None\n",
        "\treturn stack[top]\n",
        "\n",
        "## 전역 변수 선언 부분 ##\n",
        "SIZE = int(input(\"스택의 크기를 입력하세요 ==> \"))\n",
        "stack = [ None for _ in range(SIZE) ]\n",
        "top = -1\n",
        "\n",
        "## 메인 코드 부분 ##\n",
        "if __name__ == \"__main__\" :\n",
        "\tselect = input(\"삽입(I)/추출(E)/확인(V)/종료(X) 중 하나를 선택 ==> \")\n",
        "\n",
        "\twhile (select != 'X' and select != 'x') :\n",
        "\t\tif select=='I' or select =='i' :\n",
        "\t\t\tdata = input(\"입력할 데이터 ==> \")\n",
        "\t\t\tpush(data)\n",
        "\t\t\tprint(\"스택 상태 : \", stack)\n",
        "\t\telif select=='E' or select =='e' :\n",
        "\t\t\tdata = pop()\n",
        "\t\t\tprint(\"추출된 데이터 ==> \", data)\n",
        "\t\t\tprint(\"스택 상태 : \", stack)\n",
        "\t\telif select=='V' or select =='v' :\n",
        "\t\t\tdata = peek()\n",
        "\t\t\tprint(\"확인된 데이터 ==> \", data)\n",
        "\t\t\tprint(\"스택 상태 : \", stack)\n",
        "\t\telse :\n",
        "\t\t\tprint(\"입력이 잘못됨\")\n",
        "\n",
        "\t\tselect = input(\"삽입(I)/추출(E)/확인(V)/종료(X) 중 하나를 선택 ==> \")\n",
        "\n",
        "\tprint(\"프로그램 종료!\")"
      ],
      "metadata": {
        "colab": {
          "base_uri": "https://localhost:8080/"
        },
        "id": "YLMRNMRyRwN3",
        "outputId": "c1fea928-0c9a-4523-b03c-59721c20cfda"
      },
      "execution_count": null,
      "outputs": [
        {
          "output_type": "stream",
          "name": "stdout",
          "text": [
            "스택의 크기를 입력하세요 ==> 1\n",
            "삽입(I)/추출(E)/확인(V)/종료(X) 중 하나를 선택 ==> e\n",
            "스택이 비었습니다.\n",
            "추출된 데이터 ==>  None\n",
            "스택 상태 :  [None]\n",
            "삽입(I)/추출(E)/확인(V)/종료(X) 중 하나를 선택 ==> x\n",
            "프로그램 종료!\n"
          ]
        }
      ]
    }
  ]
}