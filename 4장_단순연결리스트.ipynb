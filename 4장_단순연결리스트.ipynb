{
  "nbformat": 4,
  "nbformat_minor": 0,
  "metadata": {
    "colab": {
      "provenance": [],
      "authorship_tag": "ABX9TyPxSNtFCUahQHiGggRQF/sA",
      "include_colab_link": true
    },
    "kernelspec": {
      "name": "python3",
      "display_name": "Python 3"
    },
    "language_info": {
      "name": "python"
    }
  },
  "cells": [
    {
      "cell_type": "markdown",
      "metadata": {
        "id": "view-in-github",
        "colab_type": "text"
      },
      "source": [
        "<a href=\"https://colab.research.google.com/github/udg2019/oss/blob/master/4%EC%9E%A5_%EB%8B%A8%EC%88%9C%EC%97%B0%EA%B2%B0%EB%A6%AC%EC%8A%A4%ED%8A%B8.ipynb\" target=\"_parent\"><img src=\"https://colab.research.google.com/assets/colab-badge.svg\" alt=\"Open In Colab\"/></a>"
      ]
    },
    {
      "cell_type": "markdown",
      "source": [
        "https://wikidocs.net/book/1"
      ],
      "metadata": {
        "id": "3p2V4nJSo_Zd"
      }
    },
    {
      "cell_type": "code",
      "execution_count": null,
      "metadata": {
        "colab": {
          "base_uri": "https://localhost:8080/"
        },
        "id": "KW4qQXT7nhDd",
        "outputId": "28b8c29e-42e3-424e-d5db-43cc5b819a91"
      },
      "outputs": [
        {
          "output_type": "stream",
          "name": "stdout",
          "text": [
            "3\n",
            "7\n"
          ]
        }
      ],
      "source": [
        "#사전학습 - 클래스\n",
        "\n",
        "result = 0\n",
        "'''\n",
        "def 함수명(매개변수):\n",
        "  명령문\n",
        "  return 반환값\n",
        "'''\n",
        "\n",
        "def add(num):\n",
        "  global result\n",
        "  result += num\n",
        "  return result\n",
        "\n",
        "print(add(3))\n",
        "print(add(4))\n",
        "\n",
        "\n",
        "# NameError: 변수명들의 이름이 에러, ValueError: 데이터의 갯수, 내용의 에러\n",
        "# TypeError: 데이터형식의 에러,      SyntaxError: 문법에러"
      ]
    },
    {
      "cell_type": "code",
      "source": [
        "#클래스 : 전체 틀, 설계도면\n",
        "'''\n",
        "class 클래스명:\n",
        "    함수:\n",
        "    함수: 자바의 그것과 비슷함. 프로그램으로 만들면 여러개의 함수를 이용가능.\n",
        "'''\n",
        "\n",
        "class Calculator:\n",
        "    def __init__(self): #초기화 __함수__(*) 특수메서드\n",
        "        self.result = 0\n",
        "\n",
        "    def add(self, num):\n",
        "        self.result += num\n",
        "        return self.result\n",
        "\n",
        "#객체 생성 cal1을 캘큘()으로 만들어라. 즉, 이 함수를 쓸 준비를 해두는것.\n",
        "cal1 = Calculator()\n",
        "cal2 = Calculator()\n",
        "\n",
        "print(cal1.add(3))\n",
        "print(cal1.add(4))\n",
        "print(cal2.add(3))\n",
        "print(cal2.add(7))"
      ],
      "metadata": {
        "colab": {
          "base_uri": "https://localhost:8080/"
        },
        "id": "fj3hGXM9pMZv",
        "outputId": "08aded5f-20fd-4f16-94f4-1ddced2274e7"
      },
      "execution_count": null,
      "outputs": [
        {
          "output_type": "stream",
          "name": "stdout",
          "text": [
            "3\n",
            "7\n",
            "3\n",
            "10\n"
          ]
        }
      ]
    },
    {
      "cell_type": "markdown",
      "source": [
        "# 단순 연결 리스트 기본\n",
        "- 선형리스트 : 배열에 데이터를 차례대로 저장\n",
        "- 단순연결리스트 : (로드란 개념이 들어감)\n",
        " - 노드들이 물리적으로 떨어진곳에 위치,\n",
        " - 각 노드의 번지도 순차적이지 않다.\n",
        " - 화살표로 표시된 연결(link)를 따라가면 선 형리스트의 순서와 같음\n",
        "\n",
        "용어정리(시험나옴)"
      ],
      "metadata": {
        "id": "nvyp6VG2qPdU"
      }
    },
    {
      "cell_type": "code",
      "source": [
        "# p.125\n",
        "class Node():\n",
        "  def __init__(self):\n",
        "    self.data=None #속성\n",
        "    self.link=None\n",
        "\n",
        "# 자바의 그것과 같은 유형\n",
        "# 이제 이건 저 아래까지 계속 쓰게 됨!"
      ],
      "metadata": {
        "id": "KkqDlr3kqb62"
      },
      "execution_count": null,
      "outputs": []
    },
    {
      "cell_type": "code",
      "source": [
        "#객체 생성\n",
        "node1 = Node()\n",
        "node2 = Node()\n",
        "node3 = Node()\n",
        "node4 = Node()"
      ],
      "metadata": {
        "id": "V2RvTaFdsW2b"
      },
      "execution_count": null,
      "outputs": []
    },
    {
      "cell_type": "code",
      "source": [
        "node1.data = '다현'\n",
        "print(node1.data)"
      ],
      "metadata": {
        "colab": {
          "base_uri": "https://localhost:8080/"
        },
        "id": "171AcZe-smCL",
        "outputId": "5fd8f9d8-2b6c-4f83-ce32-70489b1677f6"
      },
      "execution_count": null,
      "outputs": [
        {
          "output_type": "stream",
          "name": "stdout",
          "text": [
            "다현\n"
          ]
        }
      ]
    },
    {
      "cell_type": "code",
      "source": [
        "node2.data = '정연'\n",
        "node1.link = node2"
      ],
      "metadata": {
        "id": "9wh0sWCKtPkz"
      },
      "execution_count": null,
      "outputs": []
    },
    {
      "cell_type": "code",
      "source": [
        "node3.data = '쯔위'\n",
        "node2.link = node3"
      ],
      "metadata": {
        "id": "_rL8D4Z2uCMy"
      },
      "execution_count": null,
      "outputs": []
    },
    {
      "cell_type": "code",
      "source": [
        "node4.data = '사나'\n",
        "node3.link = node4"
      ],
      "metadata": {
        "id": "rPNx7DXsuNaq"
      },
      "execution_count": null,
      "outputs": []
    },
    {
      "cell_type": "code",
      "source": [
        "print(node1.data, end=' | ')\n",
        "print(node1.link.data, end=' | ')\n",
        "print(node1.link.link.data, end=' | ')\n",
        "print(node1.link.link.link.data, end=' | ')\n",
        "\n",
        "#이제 이 출력을 반복문으로"
      ],
      "metadata": {
        "colab": {
          "base_uri": "https://localhost:8080/"
        },
        "id": "krleP47tuWFT",
        "outputId": "db0e709d-e866-4c04-9fb1-c2fca8dc3785"
      },
      "execution_count": null,
      "outputs": [
        {
          "output_type": "stream",
          "name": "stdout",
          "text": [
            "다현 | 정연 | 쯔위 | 사나 | "
          ]
        }
      ]
    },
    {
      "cell_type": "code",
      "source": [
        "'''\n",
        "current = node1\n",
        "print(current.data)\n",
        "\n",
        "while current.link !=None: #'None이 아니면'(연결이 있을때까지) while(반복할것)\n",
        "  current = current.link   # 다음 노드를 현재 노드에 지정\n",
        "  print(current.data, end=' ')\n",
        "  '''"
      ],
      "metadata": {
        "colab": {
          "base_uri": "https://localhost:8080/",
          "height": 72
        },
        "id": "2g5Od_3eyjfk",
        "outputId": "79d8bbbd-27bf-45c1-a63d-1ef275659400"
      },
      "execution_count": null,
      "outputs": [
        {
          "output_type": "execute_result",
          "data": {
            "text/plain": [
              "\"\\ncurrent = node1\\nprint(current.data)\\n\\nwhile current.link !=None: #'None이 아니면'(연결이 있을때까지) while(반복할것)\\n  current = current.link   # 다음 노드를 현재 노드에 지정\\n  print(current.data, end=' ')\\n  \""
            ],
            "application/vnd.google.colaboratory.intrinsic+json": {
              "type": "string"
            }
          },
          "metadata": {},
          "execution_count": 10
        }
      ]
    },
    {
      "cell_type": "markdown",
      "source": [
        "## 노드 추가"
      ],
      "metadata": {
        "id": "cQXZ5ONCzjqy"
      }
    },
    {
      "cell_type": "code",
      "source": [
        "# 위 데이터 그대로 사용\n",
        "\n",
        "newNode = Node()\n",
        "newNode.data = '편입'\n",
        "newNode.link = node2.link\n",
        "node2.link = newNode"
      ],
      "metadata": {
        "id": "IimVAaT_zna8"
      },
      "execution_count": null,
      "outputs": []
    },
    {
      "cell_type": "code",
      "source": [
        "#전체출력\n",
        "current = node1\n",
        "print(current.data)\n",
        "while current.link !=None:\n",
        "  current = current.link\n",
        "  print(current.data, end=' ')"
      ],
      "metadata": {
        "colab": {
          "base_uri": "https://localhost:8080/"
        },
        "id": "1S9qmxdY2Vf6",
        "outputId": "b0b13cdf-1c3c-4b94-b6e7-19408e742655"
      },
      "execution_count": null,
      "outputs": [
        {
          "output_type": "stream",
          "name": "stdout",
          "text": [
            "다현\n",
            "정연 편입 쯔위 사나 "
          ]
        }
      ]
    },
    {
      "cell_type": "markdown",
      "source": [
        "## 노드 삭제"
      ],
      "metadata": {
        "id": "JKe6JlPmzbTz"
      }
    },
    {
      "cell_type": "code",
      "source": [
        "#정연 뒤에 편입을 끼워넣었고 쯔위랑 (그 링크에 끼어든) 편입을 삭제하고 싶음.\n",
        "\n",
        "node2.link = node3.link\n",
        "\n",
        "del(node3)"
      ],
      "metadata": {
        "id": "ddw8gkaUzdNW"
      },
      "execution_count": null,
      "outputs": []
    },
    {
      "cell_type": "code",
      "source": [
        "#전체출력\n",
        "current = node1\n",
        "print(current.data)\n",
        "while current.link !=None:\n",
        "  current = current.link\n",
        "  print(current.data, end=' ')"
      ],
      "metadata": {
        "colab": {
          "base_uri": "https://localhost:8080/"
        },
        "id": "ZZd7ssMK3gjJ",
        "outputId": "d1230498-b0e9-481a-c9fc-676b2fc28eee"
      },
      "execution_count": null,
      "outputs": [
        {
          "output_type": "stream",
          "name": "stdout",
          "text": [
            "다현\n",
            "정연 사나 "
          ]
        }
      ]
    },
    {
      "cell_type": "markdown",
      "source": [
        "## 단순연결리스트 일반구현"
      ],
      "metadata": {
        "id": "13FZzaAX39Ai"
      }
    },
    {
      "cell_type": "code",
      "source": [
        "# 클래스 함수 선언\n",
        "class Node():\n",
        "  def __init__(self):\n",
        "    self.data=None\n",
        "    self.link=None\n",
        "\n",
        "\n",
        "#노드를 읽어가는 함수 선언\n",
        "def printNodes(start):\n",
        "  current = start\n",
        "  if current == None:\n",
        "    return\n",
        "  print(current.data, end='')\n",
        "\n",
        "  while current.link !=None: # 연결이 있을때까지\n",
        "    current = current.link   # 다음 노드를 현재 노드에 지정\n",
        "    print(current.data, end=' ')\n",
        "  print()\n",
        "\n",
        "\n",
        "#전역변수 설정 (2)\n",
        "memory = []\n",
        "head, pre, current = None, None, None\n",
        "dataArray = ['다현','정연','쯔위','사나','지효']\n",
        "\n",
        "#여기까지가 설정"
      ],
      "metadata": {
        "id": "mEsFRnSP38RB"
      },
      "execution_count": null,
      "outputs": []
    },
    {
      "cell_type": "code",
      "source": [
        "#이제부터 메인코드(동작)\n",
        "if __name__ == \"__main__\":\n",
        "  node=Node()\n",
        "  node.data = dataArray[0] #노드데이터 0번을\n",
        "  head = node #헤드로 잡을것.\n",
        "  memory.append(node)\n",
        "\n",
        "#두번째 노드부터 끝까지\n",
        "  for data in dataArray[1:]:\n",
        "    pre = node\n",
        "    node = Node()\n",
        "    node.data = data\n",
        "    pre.link = node\n",
        "    memory.append(node)\n",
        "\n",
        "  printNodes(head)"
      ],
      "metadata": {
        "colab": {
          "base_uri": "https://localhost:8080/"
        },
        "id": "ww9ptbEk76Zs",
        "outputId": "8c72f8bd-fe64-4c72-82ff-cf371442a197"
      },
      "execution_count": null,
      "outputs": [
        {
          "output_type": "stream",
          "name": "stdout",
          "text": [
            "다현정연 쯔위 사나 지효 \n"
          ]
        }
      ]
    },
    {
      "cell_type": "markdown",
      "source": [
        "### 노드 추가"
      ],
      "metadata": {
        "id": "VnTjb6Y2Dmtp"
      }
    },
    {
      "cell_type": "code",
      "source": [
        "# 클래스 함수 선언\n",
        "class Node():\n",
        "  def __init__(self):\n",
        "    self.data=None\n",
        "    self.link=None\n",
        "\n",
        "\n",
        "#노드를 읽어가는 함수 선언\n",
        "def printNodes(start):\n",
        "  current = start\n",
        "  if current == None:\n",
        "    return\n",
        "  print(current.data, end='')\n",
        "\n",
        "  while current.link !=None:\n",
        "    current = current.link\n",
        "    print(current.data, end=' ')\n",
        "  print()"
      ],
      "metadata": {
        "id": "00mhw9IuDpOZ"
      },
      "execution_count": null,
      "outputs": []
    },
    {
      "cell_type": "code",
      "source": [
        "def insertNode(findData, InsertData):\n",
        "  global memory, head, current, pre\n",
        "\n",
        "  if head.data == findData: #첫노드에 추가\n",
        "    node = Node()\n",
        "    node.data = InsertData #데이터 입력\n",
        "    node.link = head #링크를 헤드가 가르키는 노드로 지정\n",
        "    head = node #헤드를 새 노드로 변경\n",
        "    return\n",
        "\n",
        "  current = head\n",
        "  while current.link !=None: #커런트의 링크가 논이 아닐때까지 작업 | 중간에 추가\n",
        "    pre = current #현재노드를 이전노드에 할당(대입)\n",
        "    current = current.link #현재노드가 한칸 이동\n",
        "    if current.data == findData: #현재 데이터가 찾는 데이터이면~ (같은거냐고)\n",
        "      node = Node() #새노드 생성\n",
        "      node.data = InsertData\n",
        "      node.link = current\n",
        "      pre.link = node\n",
        "      return\n",
        "\n",
        "  node=Node() #마지막에 추가\n",
        "  node.data = InsertData\n",
        "  current.link = node"
      ],
      "metadata": {
        "id": "pnks6w5WEFCC"
      },
      "execution_count": null,
      "outputs": []
    },
    {
      "cell_type": "code",
      "source": [
        "#전역변수 설정\n",
        "memory = []\n",
        "head, pre, current = None, None, None\n",
        "dataArray = ['다현','정연','쯔위','사나','지효']"
      ],
      "metadata": {
        "id": "E_ta1PQXG0Sy"
      },
      "execution_count": null,
      "outputs": []
    },
    {
      "cell_type": "code",
      "source": [
        "if __name__ == \"__main__\":\n",
        "  #첫번째 노드에 대한 것\n",
        "  node=Node()\n",
        "  node.data = dataArray[0] #노드데이터 0번을\n",
        "  head = node #헤드로 잡을것.\n",
        "  memory.append(node)\n",
        "\n",
        "#두번째 노드부터 끝까지\n",
        "  for data in dataArray[1:]:\n",
        "    pre = node\n",
        "    node = Node()\n",
        "    node.data = data\n",
        "    pre.link = node\n",
        "    memory.append(node)\n",
        "\n",
        "#출력하는 함수 호출\n",
        "  printNodes(head)\n",
        "\n",
        "  insertNode('다현','화사')\n",
        "  printNodes(head)\n",
        "\n",
        "  insertNode('사나','솔라')\n",
        "  printNodes(head)\n",
        "\n",
        "  insertNode('재남','문별')\n",
        "  printNodes(head)"
      ],
      "metadata": {
        "colab": {
          "base_uri": "https://localhost:8080/"
        },
        "id": "7nHsViZnG4Mx",
        "outputId": "8284628b-72f2-4674-80ce-199b961c759c"
      },
      "execution_count": null,
      "outputs": [
        {
          "output_type": "stream",
          "name": "stdout",
          "text": [
            "다현정연 쯔위 사나 지효 \n",
            "화사다현 정연 쯔위 사나 지효 \n",
            "화사다현 정연 쯔위 솔라 사나 지효 \n",
            "화사다현 정연 쯔위 솔라 사나 지효 문별 \n"
          ]
        }
      ]
    },
    {
      "cell_type": "markdown",
      "source": [
        "### 노드 삭제"
      ],
      "metadata": {
        "id": "rJJhFOwWDpuQ"
      }
    }
  ]
}